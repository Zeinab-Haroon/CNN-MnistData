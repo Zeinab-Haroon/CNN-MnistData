{
  "nbformat": 4,
  "nbformat_minor": 0,
  "metadata": {
    "colab": {
      "name": "CNN-mnist_Data.ipynb",
      "provenance": [],
      "collapsed_sections": []
    },
    "kernelspec": {
      "name": "python3",
      "display_name": "Python 3"
    }
  },
  "cells": [
    {
      "cell_type": "code",
      "metadata": {
        "id": "yrhc_Rtwt47c",
        "colab_type": "code",
        "colab": {}
      },
      "source": [
        "import tensorflow as tf\n",
        "from tensorflow import keras\n",
        "from keras import layers\n",
        "mnist = tf.keras.datasets.mnist"
      ],
      "execution_count": 0,
      "outputs": []
    },
    {
      "cell_type": "code",
      "metadata": {
        "id": "BDwcn8gqwMnI",
        "colab_type": "code",
        "colab": {
          "base_uri": "https://localhost:8080/",
          "height": 283
        },
        "outputId": "7eef189f-151e-4483-c217-da7488ddbc6f"
      },
      "source": [
        "#split the mnist-data into train and test\n",
        "#x_train,x_test contain the images while y_train, y_test contain the digits\n",
        "(X_train, y_train),(X_test, y_test) = mnist.load_data()\n",
        "\n",
        "#display one image of the mnist data\n",
        "import matplotlib.pyplot as plt\n",
        "plt.imshow(X_train[0], cmap='gray')\n",
        "X_train[0].shape"
      ],
      "execution_count": 14,
      "outputs": [
        {
          "output_type": "execute_result",
          "data": {
            "text/plain": [
              "(28, 28)"
            ]
          },
          "metadata": {
            "tags": []
          },
          "execution_count": 14
        },
        {
          "output_type": "display_data",
          "data": {
            "image/png": "[encoded data removed]",
            "text/plain": [
              "<Figure size 432x288 with 1 Axes>"
            ]
          },
          "metadata": {
            "tags": []
          }
        }
      ]
    },
    {
      "cell_type": "code",
      "metadata": {
        "id": "tYV3iPi4cgpD",
        "colab_type": "code",
        "colab": {}
      },
      "source": [
        "#reshape the data to fit the model\n",
        "\n",
        "X_train = X_train.reshape(60000,28,28,1)\n",
        "X_test =  X_test.reshape(10000,28,28,1)\n",
        "\n",
        "#encode the data (X_train, X_test)\n",
        "X_train = X_train/255.0\n",
        "X_test = X_test/255.0"
      ],
      "execution_count": 0,
      "outputs": []
    },
    {
      "cell_type": "code",
      "metadata": {
        "id": "5s-sY76zwMqm",
        "colab_type": "code",
        "colab": {}
      },
      "source": [
        "#build a Sequential model, filters used and theirs kernel_size\n",
        "#more filters provide more output channels(image-depth)\n",
        "#the output of a convolution called 'feature-map'\n",
        "# max-pooling picks the maximum value in a certain size of the window like window_size is (2,2) to reduce the width and the height of the image. or average-pooling that averges the values not the maximum.\n",
        "#the general successful structure used is: (2-convolution layes with acivations follwed by pooling layers, flatten layers ,and dense layer with activation)\n",
        "#flatten converts the 2D-matrix into 1D vector\n",
        "#Dropout is a regualization used to exclude some neurons of the layer to avoid overfitting\n",
        "\n",
        "model = tf.keras.models.Sequential([\n",
        "  tf.keras.layers.Conv2D(filters=64,  kernel_size=3, activation= 'relu', input_shape=(28,28,1)),\n",
        "  tf.keras.layers.Conv2D(filters=32,  kernel_size=3, activation= 'relu'),\n",
        "  tf.keras.layers.Flatten(),\n",
        "  tf.keras.layers.Dropout(0.2),\n",
        "  tf.keras.layers.Dense(10, activation='softmax')                         \n",
        "]) "
      ],
      "execution_count": 0,
      "outputs": []
    },
    {
      "cell_type": "code",
      "metadata": {
        "colab_type": "code",
        "id": "ELOaDC-UFvsl",
        "colab": {}
      },
      "source": [
        "#compile the model takes three parameters:(optimizer, loss and metrics), using accuracy to model performace.\n",
        "#the optimizer controls the learning rate, the adam optmizer adjusts the learning-rate throughout training.\n",
        "\n",
        "model.compile(optimizer='Adam', loss='sparse_categorical_crossentropy', metrics=['accuracy'])"
      ],
      "execution_count": 0,
      "outputs": []
    },
    {
      "cell_type": "code",
      "metadata": {
        "id": "fx1fr2kAwM62",
        "colab_type": "code",
        "colab": {
          "base_uri": "https://localhost:8080/",
          "height": 243
        },
        "outputId": "ab1fe45e-dbdc-45fa-be78-88850b9e63ef"
      },
      "source": [
        "#train the model(.fit_the training data(X_train) and the target(y_train)) and evaluate it \n",
        "\n",
        "history = model.fit(X_train, y_train, validation_data= (X_test, y_test), epochs=5)\n",
        "model.evaluate(X_test, y_test)"
      ],
      "execution_count": 27,
      "outputs": [
        {
          "output_type": "stream",
          "text": [
            "Train on 60000 samples, validate on 10000 samples\n",
            "Epoch 1/5\n",
            "60000/60000 [==============================] - 187s 3ms/sample - loss: 0.0052 - acc: 0.9983 - val_loss: 0.0773 - val_acc: 0.9860\n",
            "Epoch 2/5\n",
            "60000/60000 [==============================] - 187s 3ms/sample - loss: 0.0037 - acc: 0.9987 - val_loss: 0.0738 - val_acc: 0.9885\n",
            "Epoch 3/5\n",
            "60000/60000 [==============================] - 186s 3ms/sample - loss: 0.0049 - acc: 0.9984 - val_loss: 0.0757 - val_acc: 0.9877\n",
            "Epoch 4/5\n",
            "60000/60000 [==============================] - 186s 3ms/sample - loss: 0.0049 - acc: 0.9982 - val_loss: 0.0855 - val_acc: 0.9878\n",
            "Epoch 5/5\n",
            "60000/60000 [==============================] - 186s 3ms/sample - loss: 0.0034 - acc: 0.9989 - val_loss: 0.0856 - val_acc: 0.9860\n",
            "10000/10000 [==============================] - 6s 611us/sample - loss: 0.0856 - acc: 0.9860\n"
          ],
          "name": "stdout"
        },
        {
          "output_type": "execute_result",
          "data": {
            "text/plain": [
              "[0.08555271262374133, 0.986]"
            ]
          },
          "metadata": {
            "tags": []
          },
          "execution_count": 27
        }
      ]
    },
    {
      "cell_type": "code",
      "metadata": {
        "id": "BAWD-W-xwNLi",
        "colab_type": "code",
        "colab": {
          "base_uri": "https://localhost:8080/",
          "height": 225
        },
        "outputId": "871cfa86-ed57-4adf-d84e-23ab04979dc3"
      },
      "source": [
        "#predict first 4-images in the test-set\n",
        "model.predict(X_test[:4])"
      ],
      "execution_count": 28,
      "outputs": [
        {
          "output_type": "execute_result",
          "data": {
            "text/plain": [
              "array([[2.5023075e-23, 4.7099399e-30, 1.6457765e-20, 7.3695212e-15,\n",
              "        1.7524753e-27, 3.1160583e-25, 1.2184306e-37, 1.0000000e+00,\n",
              "        8.1213756e-19, 4.9852588e-19],\n",
              "       [2.6807710e-20, 1.5150221e-19, 1.0000000e+00, 1.2198384e-24,\n",
              "        2.3555327e-28, 9.4798823e-31, 3.6922775e-16, 8.0747185e-37,\n",
              "        5.8079113e-21, 1.7715364e-28],\n",
              "       [6.4733117e-14, 1.0000000e+00, 6.2702579e-11, 5.0545891e-15,\n",
              "        8.3874365e-09, 8.0760870e-11, 1.0777557e-11, 1.8413000e-11,\n",
              "        4.1852820e-11, 1.0814966e-16],\n",
              "       [1.0000000e+00, 5.0510121e-27, 7.5865920e-15, 5.3691987e-24,\n",
              "        2.1586013e-27, 4.8813390e-21, 9.7725103e-19, 6.0575894e-22,\n",
              "        1.5390591e-23, 7.0891655e-17]], dtype=float32)"
            ]
          },
          "metadata": {
            "tags": []
          },
          "execution_count": 28
        }
      ]
    },
    {
      "cell_type": "code",
      "metadata": {
        "id": "GwBsDq8ywNHi",
        "colab_type": "code",
        "colab": {
          "base_uri": "https://localhost:8080/",
          "height": 35
        },
        "outputId": "8ec50fb6-95d8-48e7-f99d-72b6f4f4658a"
      },
      "source": [
        "#actual results for the first 4-images in test-set\n",
        "y_test[:4]"
      ],
      "execution_count": 29,
      "outputs": [
        {
          "output_type": "execute_result",
          "data": {
            "text/plain": [
              "array([7, 2, 1, 0], dtype=uint8)"
            ]
          },
          "metadata": {
            "tags": []
          },
          "execution_count": 29
        }
      ]
    },
    {
      "cell_type": "code",
      "metadata": {
        "id": "kYeO_29zockJ",
        "colab_type": "code",
        "colab": {
          "base_uri": "https://localhost:8080/",
          "height": 557
        },
        "outputId": "6576d047-fdc1-43c6-e685-7dff3d69903d"
      },
      "source": [
        "# Plot training & validation accuracy values\n",
        "plt.plot(history.history['acc'])\n",
        "plt.plot(history.history['val_acc'])\n",
        "plt.ylabel('Accuracy')\n",
        "plt.xlabel('Epoch')\n",
        "plt.legend(['Train', 'Test'], loc='upper left')\n",
        "plt.show()\n",
        "\n",
        "# Plot training & validation loss values\n",
        "plt.plot(history.history['loss'])\n",
        "plt.plot(history.history['val_loss'])\n",
        "plt.title('Model loss')\n",
        "plt.ylabel('Loss')\n",
        "plt.xlabel('Epoch')\n",
        "plt.legend(['Train', 'Test'], loc='upper left')\n",
        "plt.show()"
      ],
      "execution_count": 30,
      "outputs": [
        {
          "output_type": "display_data",
          "data": {
            "image/png": "[encoded data removed]",
            "text/plain": [
              "<Figure size 432x288 with 1 Axes>"
            ]
          },
          "metadata": {
            "tags": []
          }
        },
        {
          "output_type": "display_data",
          "data": {
            "image/png": "[encoded data removed]",
            "text/plain": [
              "<Figure size 432x288 with 1 Axes>"
            ]
          },
          "metadata": {
            "tags": []
          }
        }
      ]
    }
  ]
}